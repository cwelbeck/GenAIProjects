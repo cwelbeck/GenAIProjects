{
 "cells": [
  {
   "cell_type": "markdown",
   "id": "0d5f3350",
   "metadata": {},
   "source": [
    "# 🏦 Automated Loan Test Case Generator\n",
    "\n",
    "Generate synthetic borrower profiles for testing loan eligibility and pricing engines."
   ]
  },
  {
   "cell_type": "markdown",
   "id": "84615b90",
   "metadata": {},
   "source": [
    "## 📋 Step 1: Import Libraries"
   ]
  },
  {
   "cell_type": "code",
   "execution_count": null,
   "id": "49373e66",
   "metadata": {},
   "outputs": [],
   "source": [
    "\n",
    "import pandas as pd\n",
    "import random\n",
    "from faker import Faker\n",
    "faker = Faker()\n",
    "    "
   ]
  },
  {
   "cell_type": "markdown",
   "id": "a890cea2",
   "metadata": {},
   "source": [
    "## 🧪 Step 2: Define Rule Parameters"
   ]
  },
  {
   "cell_type": "code",
   "execution_count": null,
   "id": "3bc2b50e",
   "metadata": {},
   "outputs": [],
   "source": [
    "\n",
    "credit_scores = range(580, 800, 10)\n",
    "ltvs = [60, 70, 75, 80, 85, 90, 95]\n",
    "dti_ratios = [20, 25, 30, 35, 40, 43, 45]\n",
    "loan_amounts = [100000, 200000, 300000, 400000, 500000]\n",
    "products = ['30-year fixed', '15-year fixed', '5/1 ARM']\n",
    "    "
   ]
  },
  {
   "cell_type": "markdown",
   "id": "13ce8f58",
   "metadata": {},
   "source": [
    "## 🏗 Step 3: Generate Synthetic Test Cases"
   ]
  },
  {
   "cell_type": "code",
   "execution_count": null,
   "id": "4fc03510",
   "metadata": {},
   "outputs": [],
   "source": [
    "\n",
    "test_cases = []\n",
    "\n",
    "for _ in range(100):\n",
    "    profile = {\n",
    "        'Borrower Name': faker.name(),\n",
    "        'Credit Score': random.choice(credit_scores),\n",
    "        'LTV': random.choice(ltvs),\n",
    "        'DTI': random.choice(dti_ratios),\n",
    "        'Loan Amount': random.choice(loan_amounts),\n",
    "        'Product': random.choice(products)\n",
    "    }\n",
    "    test_cases.append(profile)\n",
    "\n",
    "df = pd.DataFrame(test_cases)\n",
    "df.head()\n",
    "    "
   ]
  },
  {
   "cell_type": "markdown",
   "id": "d496ba39",
   "metadata": {},
   "source": [
    "## 📁 Step 4: Export to CSV"
   ]
  },
  {
   "cell_type": "code",
   "execution_count": null,
   "id": "50053390",
   "metadata": {},
   "outputs": [],
   "source": [
    "\n",
    "df.to_csv(\"loan_test_cases.csv\", index=False)\n",
    "print(\"✅ Test cases exported to 'loan_test_cases.csv'\")\n",
    "    "
   ]
  }
 ],
 "metadata": {},
 "nbformat": 4,
 "nbformat_minor": 5
}
